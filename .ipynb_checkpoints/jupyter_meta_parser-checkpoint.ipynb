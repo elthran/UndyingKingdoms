{
 "cells": [
  {
   "cell_type": "markdown",
   "metadata": {},
   "source": [
    "# Set Up\n",
    "\n",
    "Run the following cell to load your data and some utility functions."
   ]
  },
  {
   "cell_type": "code",
   "execution_count": 1,
   "metadata": {},
   "outputs": [],
   "source": [
    "import pandas as pd\n",
    "import numpy as np\n",
    "from undyingkingdoms.static.metadata import *"
   ]
  },
  {
   "cell_type": "markdown",
   "metadata": {},
   "source": [
    "Attempt to import races and write data to .xlsx"
   ]
  },
  {
   "cell_type": "code",
   "execution_count": 48,
   "metadata": {},
   "outputs": [
    {
     "name": "stdout",
     "output_type": "stream",
     "text": [
      "     Race\n",
      "0   Human\n",
      "1     Elf\n",
      "2   Dwarf\n",
      "3  Goblin\n"
     ]
    }
   ],
   "source": [
    "races = pd.DataFrame({\"Race\": metadata.metadata_races})\n",
    "print(races)\n",
    "# races.to_excel('undyingkingdoms/static/metadata/all.xlsx', sheet_name='Race Table')"
   ]
  },
  {
   "cell_type": "markdown",
   "metadata": {},
   "source": [
    "Attempt to add modifiers to races."
   ]
  },
  {
   "cell_type": "code",
   "execution_count": 5,
   "metadata": {},
   "outputs": [],
   "source": [
    "modifiers = [mod[:-9] for mod in dir(metadata) if \"modifier\" in mod]\n",
    "modifiers = pd.DataFrame({\"Modifier\": modifiers})\n",
    "# print(modifiers)\n",
    "\n",
    "foo = {races.columns[0]: [], modifiers.columns[0]: []}\n",
    "for race in races.Race:\n",
    "    for mod in modifiers.Modifier:\n",
    "        foo[races.columns[0]].append(race)\n",
    "        foo[modifiers.columns[0]].append(mod)\n",
    "\n",
    "race_mods = pd.DataFrame(foo)\n",
    "race_mods.to_excel('undyingkingdoms/static/metadata/all.xlsx', sheet_name='Race Modifiers')"
   ]
  },
  {
   "cell_type": "markdown",
   "metadata": {},
   "source": [
    "Attempt to pull modifier values from metadata."
   ]
  },
  {
   "cell_type": "code",
   "execution_count": 3,
   "metadata": {
    "scrolled": false
   },
   "outputs": [
    {
     "ename": "IndexError",
     "evalue": "indices are out-of-bounds",
     "output_type": "error",
     "traceback": [
      "\u001b[0;31m---------------------------------------------------------------------------\u001b[0m",
      "\u001b[0;31mIndexError\u001b[0m                                Traceback (most recent call last)",
      "\u001b[0;32m<ipython-input-3-ee2f977afca7>\u001b[0m in \u001b[0;36m<module>\u001b[0;34m\u001b[0m\n\u001b[1;32m     31\u001b[0m         \u001b[0mdf\u001b[0m\u001b[0;34m.\u001b[0m\u001b[0mBackground\u001b[0m\u001b[0;34m[\u001b[0m\u001b[0mi\u001b[0m\u001b[0;34m]\u001b[0m \u001b[0;34m=\u001b[0m \u001b[0mbackground\u001b[0m\u001b[0;34m\u001b[0m\u001b[0;34m\u001b[0m\u001b[0m\n\u001b[1;32m     32\u001b[0m         \u001b[0mi\u001b[0m \u001b[0;34m+=\u001b[0m \u001b[0;36m1\u001b[0m\u001b[0;34m\u001b[0m\u001b[0;34m\u001b[0m\u001b[0m\n\u001b[0;32m---> 33\u001b[0;31m \u001b[0mdf\u001b[0m \u001b[0;34m=\u001b[0m \u001b[0mdf\u001b[0m\u001b[0;34m.\u001b[0m\u001b[0msort_values\u001b[0m\u001b[0;34m(\u001b[0m\u001b[0;34m[\u001b[0m\u001b[0;34m'Race'\u001b[0m\u001b[0;34m,\u001b[0m \u001b[0;34m'Background'\u001b[0m\u001b[0;34m,\u001b[0m \u001b[0;34m'Modifier Label'\u001b[0m\u001b[0;34m]\u001b[0m\u001b[0;34m)\u001b[0m\u001b[0;34m.\u001b[0m\u001b[0mreset_index\u001b[0m\u001b[0;34m(\u001b[0m\u001b[0mdrop\u001b[0m\u001b[0;34m=\u001b[0m\u001b[0;32mTrue\u001b[0m\u001b[0;34m)\u001b[0m\u001b[0;34m\u001b[0m\u001b[0;34m\u001b[0m\u001b[0m\n\u001b[0m\u001b[1;32m     34\u001b[0m \u001b[0;34m\u001b[0m\u001b[0m\n\u001b[1;32m     35\u001b[0m \u001b[0;34m\u001b[0m\u001b[0m\n",
      "\u001b[0;32m~/virtual_envs/undying_env/lib/python3.6/site-packages/pandas/core/frame.py\u001b[0m in \u001b[0;36msort_values\u001b[0;34m(self, by, axis, ascending, inplace, kind, na_position)\u001b[0m\n\u001b[1;32m   4736\u001b[0m         new_data = self._data.take(indexer,\n\u001b[1;32m   4737\u001b[0m                                    \u001b[0maxis\u001b[0m\u001b[0;34m=\u001b[0m\u001b[0mself\u001b[0m\u001b[0;34m.\u001b[0m\u001b[0m_get_block_manager_axis\u001b[0m\u001b[0;34m(\u001b[0m\u001b[0maxis\u001b[0m\u001b[0;34m)\u001b[0m\u001b[0;34m,\u001b[0m\u001b[0;34m\u001b[0m\u001b[0;34m\u001b[0m\u001b[0m\n\u001b[0;32m-> 4738\u001b[0;31m                                    verify=False)\n\u001b[0m\u001b[1;32m   4739\u001b[0m \u001b[0;34m\u001b[0m\u001b[0m\n\u001b[1;32m   4740\u001b[0m         \u001b[0;32mif\u001b[0m \u001b[0minplace\u001b[0m\u001b[0;34m:\u001b[0m\u001b[0;34m\u001b[0m\u001b[0;34m\u001b[0m\u001b[0m\n",
      "\u001b[0;32m~/virtual_envs/undying_env/lib/python3.6/site-packages/pandas/core/internals/managers.py\u001b[0m in \u001b[0;36mtake\u001b[0;34m(self, indexer, axis, verify, convert)\u001b[0m\n\u001b[1;32m   1339\u001b[0m         \u001b[0mn\u001b[0m \u001b[0;34m=\u001b[0m \u001b[0mself\u001b[0m\u001b[0;34m.\u001b[0m\u001b[0mshape\u001b[0m\u001b[0;34m[\u001b[0m\u001b[0maxis\u001b[0m\u001b[0;34m]\u001b[0m\u001b[0;34m\u001b[0m\u001b[0;34m\u001b[0m\u001b[0m\n\u001b[1;32m   1340\u001b[0m         \u001b[0;32mif\u001b[0m \u001b[0mconvert\u001b[0m\u001b[0;34m:\u001b[0m\u001b[0;34m\u001b[0m\u001b[0;34m\u001b[0m\u001b[0m\n\u001b[0;32m-> 1341\u001b[0;31m             \u001b[0mindexer\u001b[0m \u001b[0;34m=\u001b[0m \u001b[0mmaybe_convert_indices\u001b[0m\u001b[0;34m(\u001b[0m\u001b[0mindexer\u001b[0m\u001b[0;34m,\u001b[0m \u001b[0mn\u001b[0m\u001b[0;34m)\u001b[0m\u001b[0;34m\u001b[0m\u001b[0;34m\u001b[0m\u001b[0m\n\u001b[0m\u001b[1;32m   1342\u001b[0m \u001b[0;34m\u001b[0m\u001b[0m\n\u001b[1;32m   1343\u001b[0m         \u001b[0;32mif\u001b[0m \u001b[0mverify\u001b[0m\u001b[0;34m:\u001b[0m\u001b[0;34m\u001b[0m\u001b[0;34m\u001b[0m\u001b[0m\n",
      "\u001b[0;32m~/virtual_envs/undying_env/lib/python3.6/site-packages/pandas/core/indexing.py\u001b[0m in \u001b[0;36mmaybe_convert_indices\u001b[0;34m(indices, n)\u001b[0m\n\u001b[1;32m   2613\u001b[0m     \u001b[0mmask\u001b[0m \u001b[0;34m=\u001b[0m \u001b[0;34m(\u001b[0m\u001b[0mindices\u001b[0m \u001b[0;34m>=\u001b[0m \u001b[0mn\u001b[0m\u001b[0;34m)\u001b[0m \u001b[0;34m|\u001b[0m \u001b[0;34m(\u001b[0m\u001b[0mindices\u001b[0m \u001b[0;34m<\u001b[0m \u001b[0;36m0\u001b[0m\u001b[0;34m)\u001b[0m\u001b[0;34m\u001b[0m\u001b[0;34m\u001b[0m\u001b[0m\n\u001b[1;32m   2614\u001b[0m     \u001b[0;32mif\u001b[0m \u001b[0mmask\u001b[0m\u001b[0;34m.\u001b[0m\u001b[0many\u001b[0m\u001b[0;34m(\u001b[0m\u001b[0;34m)\u001b[0m\u001b[0;34m:\u001b[0m\u001b[0;34m\u001b[0m\u001b[0;34m\u001b[0m\u001b[0m\n\u001b[0;32m-> 2615\u001b[0;31m         \u001b[0;32mraise\u001b[0m \u001b[0mIndexError\u001b[0m\u001b[0;34m(\u001b[0m\u001b[0;34m\"indices are out-of-bounds\"\u001b[0m\u001b[0;34m)\u001b[0m\u001b[0;34m\u001b[0m\u001b[0;34m\u001b[0m\u001b[0m\n\u001b[0m\u001b[1;32m   2616\u001b[0m     \u001b[0;32mreturn\u001b[0m \u001b[0mindices\u001b[0m\u001b[0;34m\u001b[0m\u001b[0;34m\u001b[0m\u001b[0m\n\u001b[1;32m   2617\u001b[0m \u001b[0;34m\u001b[0m\u001b[0m\n",
      "\u001b[0;31mIndexError\u001b[0m: indices are out-of-bounds"
     ]
    }
   ],
   "source": [
    "modifiers = [mod for mod in dir(metadata) if \"modifier\" in mod]\n",
    "mod_dfs = {' '.join(mod.split('_')).title(): pd.DataFrame(getattr(metadata, mod)) for mod in modifiers}\n",
    "\n",
    "mod_types = [' '.join(mod.split('_')).title() for mod in modifiers]\n",
    "cols = [\"Race\", \"Background\", \"Modifier Label\", \"Modifier Type\", \"Modifier Value\", \"Modifier Description\"]\n",
    "# cols = ['Races', 'BackgroundsModifier Names', 'Amount Of Thieves Modifier', 'Birth Rate Modifier', 'Death Rate Modifier', 'Defense Per Citizen Modifier', 'Food Consumed Modifier', 'Happiness Modifier', 'Income Modifier', 'Infiltration Success Modifier', 'Offensive Power Modifier', 'Production Per Worker Modifier']\n",
    "df = pd.DataFrame(index=range(44), columns=cols)\n",
    "\n",
    "i = 0\n",
    "# print(cols)\n",
    "for mod_key, mod_df in mod_dfs.items():\n",
    "    for r_b in mod_df:\n",
    "        if r_b in metadata.metadata_races:\n",
    "            df.Race[i] = r_b\n",
    "        else:  # col is Background\n",
    "            df.Background[i] = r_b\n",
    "        df['Modifier Type'][i] = mod_key\n",
    "        df['Modifier Label'][i] = mod_df[r_b][0]\n",
    "        df['Modifier Value'][i] = mod_df[r_b][1]\n",
    "        i += 1\n",
    "\n",
    "for race in metadata.metadata_races:\n",
    "    if race not in df.Race.dropna().unique():\n",
    "#         print(race)\n",
    "        df.Race[i] = race\n",
    "        i += 1\n",
    "\n",
    "for background in metadata.metadata_backgrounds:\n",
    "    if background not in df.Background.dropna().unique():\n",
    "        print(background)\n",
    "        df.Background[i] = background\n",
    "        i += 1\n",
    "df = df.sort_values(['Race', 'Background', 'Modifier Label']).reset_index(drop=True)\n",
    "\n",
    "\n",
    "for name in df['Modifier Label']:\n",
    "    try:\n",
    "        row = df['Modifier Label'] == name\n",
    "        val = df.loc[row, \"Modifier Value\"].iloc[0]\n",
    "        if int(val) == val:  # is a fixed value\n",
    "            if val > 0:\n",
    "                val = '+' + str(int(val))\n",
    "        else:  # is a percent\n",
    "            if val > 0:\n",
    "                val = '+' + str(int(val * 100))\n",
    "            val = str(val) + '%'\n",
    "        label = df.loc[row, \"Modifier Type\"].iloc[0][:-9]\n",
    "        df.loc[row, 'Modifier Description'] = '{}: {} {}'.format(name, val, label)\n",
    "    except IndexError:\n",
    "        pass\n",
    "\n",
    "df.to_excel('undyingkingdoms/static/metadata/modifiers.xlsx', sheet_name='Modifiers')\n",
    "df"
   ]
  },
  {
   "cell_type": "markdown",
   "metadata": {},
   "source": [
    "Try and work out what data to pull into the Guide Race Compare page."
   ]
  },
  {
   "cell_type": "code",
   "execution_count": 197,
   "metadata": {},
   "outputs": [
    {
     "name": "stdout",
     "output_type": "stream",
     "text": [
      "Dwarven Made: +15% Production Per Worker\n",
      "Ravenous: +15% Food Consumed\n",
      "Citizen Militia: +1 Defense Per Citizen\n",
      "Elders: -0.15% Birth Rate\n",
      "Expendable: +10% Birth Rate\n",
      "Infighting: -2 Happiness\n",
      "nan\n"
     ]
    }
   ],
   "source": [
    "df = pd.read_excel('undyingkingdoms/static/metadata/all.xlsx', sheet_name='Modifiers', index_col=0)\n",
    "\n",
    "for race in df.Race.unique():\n",
    "    select = df['Race'] == race\n",
    "    for row in df.loc[select, 'Modifier Description']:\n",
    "        if row:\n",
    "            print(row)"
   ]
  },
  {
   "cell_type": "markdown",
   "metadata": {},
   "source": [
    "Attempt to pull soldier data out of metadata files."
   ]
  },
  {
   "cell_type": "code",
   "execution_count": 60,
   "metadata": {},
   "outputs": [],
   "source": [
    "gen_armies = metadata_armies_all.generic_armies\n",
    "army_args = ['base_name', 'class_name', 'class_name_plural', 'total', 'trainable_per_day',\n",
    " 'gold', 'iron', 'wood', 'upkeep', 'attack', 'defence', 'health', 'description']\n",
    "\n",
    "cols = ['Race', 'Base Name', 'Class Name', 'Class Name Plural', 'Total',\n",
    "        'Trainable Per Day', 'Gold', 'Iron', 'Wood', 'Upkeep', 'Attack',\n",
    "        'Defence', 'Health', 'Description']\n",
    "size = len(gen_armies) * len(metadata.metadata_races)\n",
    "df = pd.DataFrame(index=range(size), columns=cols)\n",
    "\n",
    "i = 0\n",
    "for k, v in gen_armies.items():\n",
    "    for j, col in enumerate(cols[1:]):\n",
    "        df.loc[i, col] = getattr(v, army_args[j])\n",
    "    i += 1\n",
    "\n",
    "race_armies = [metadata_armies_human, metadata_armies_elf, metadata_armies_dwarf, metadata_armies_goblin]\n",
    "\n",
    "for race in metadata.metadata_races:\n",
    "    mod = locals()['metadata_armies_' + race.lower()]\n",
    "    army = getattr(mod, race.lower() + '_armies')\n",
    "    for k, v in army.items():\n",
    "        df.loc[i, 'Race'] = race\n",
    "        for j, col in enumerate(cols[1:]):\n",
    "            df.loc[i, col] = getattr(v, army_args[j])\n",
    "        i += 1\n",
    "\n",
    "df.to_excel('undyingkingdoms/static/metadata/armies.xlsx', sheet_name='Armies')\n",
    "# gen_armies\n",
    "# cols\n",
    "# df"
   ]
  },
  {
   "cell_type": "markdown",
   "metadata": {},
   "source": [
    "Work out how to display troop data."
   ]
  },
  {
   "cell_type": "code",
   "execution_count": 133,
   "metadata": {},
   "outputs": [
    {
     "name": "stdout",
     "output_type": "stream",
     "text": [
      "Man-At-Arms\n",
      "4\n",
      "Footman\n",
      "15\n",
      "Musketeer\n",
      "20\n",
      "Knight\n",
      "40\n",
      "Gryphon\n",
      "250\n"
     ]
    },
    {
     "data": {
      "text/html": [
       "<div>\n",
       "<style scoped>\n",
       "    .dataframe tbody tr th:only-of-type {\n",
       "        vertical-align: middle;\n",
       "    }\n",
       "\n",
       "    .dataframe tbody tr th {\n",
       "        vertical-align: top;\n",
       "    }\n",
       "\n",
       "    .dataframe thead th {\n",
       "        text-align: right;\n",
       "    }\n",
       "</style>\n",
       "<table border=\"1\" class=\"dataframe\">\n",
       "  <thead>\n",
       "    <tr style=\"text-align: right;\">\n",
       "      <th></th>\n",
       "      <th>index</th>\n",
       "      <th>Race</th>\n",
       "      <th>Base Name</th>\n",
       "      <th>Class Name</th>\n",
       "      <th>Class Name Plural</th>\n",
       "      <th>Total</th>\n",
       "      <th>Trainable Per Day</th>\n",
       "      <th>Gold</th>\n",
       "      <th>Iron</th>\n",
       "      <th>Wood</th>\n",
       "      <th>Upkeep</th>\n",
       "      <th>Attack</th>\n",
       "      <th>Defence</th>\n",
       "      <th>Health</th>\n",
       "      <th>Description</th>\n",
       "    </tr>\n",
       "  </thead>\n",
       "  <tbody>\n",
       "    <tr>\n",
       "      <th>0</th>\n",
       "      <td>5</td>\n",
       "      <td>Human</td>\n",
       "      <td>peasant</td>\n",
       "      <td>man-at-arms</td>\n",
       "      <td>men-at-arms</td>\n",
       "      <td>25</td>\n",
       "      <td>50</td>\n",
       "      <td>4</td>\n",
       "      <td>1</td>\n",
       "      <td>1</td>\n",
       "      <td>5</td>\n",
       "      <td>1</td>\n",
       "      <td>1</td>\n",
       "      <td>1</td>\n",
       "      <td>Men-at-arms can be trained extremely quickly a...</td>\n",
       "    </tr>\n",
       "    <tr>\n",
       "      <th>1</th>\n",
       "      <td>6</td>\n",
       "      <td>Human</td>\n",
       "      <td>soldier</td>\n",
       "      <td>footman</td>\n",
       "      <td>footmen</td>\n",
       "      <td>0</td>\n",
       "      <td>20</td>\n",
       "      <td>15</td>\n",
       "      <td>5</td>\n",
       "      <td>3</td>\n",
       "      <td>15</td>\n",
       "      <td>3</td>\n",
       "      <td>1</td>\n",
       "      <td>3</td>\n",
       "      <td>Footmen are strong attackers.</td>\n",
       "    </tr>\n",
       "    <tr>\n",
       "      <th>2</th>\n",
       "      <td>7</td>\n",
       "      <td>Human</td>\n",
       "      <td>archer</td>\n",
       "      <td>musketeer</td>\n",
       "      <td>musketeers</td>\n",
       "      <td>30</td>\n",
       "      <td>15</td>\n",
       "      <td>20</td>\n",
       "      <td>7</td>\n",
       "      <td>4</td>\n",
       "      <td>15</td>\n",
       "      <td>0</td>\n",
       "      <td>5</td>\n",
       "      <td>3</td>\n",
       "      <td>Crossbowmen are excellent at defending.</td>\n",
       "    </tr>\n",
       "    <tr>\n",
       "      <th>3</th>\n",
       "      <td>8</td>\n",
       "      <td>Human</td>\n",
       "      <td>elite</td>\n",
       "      <td>knight</td>\n",
       "      <td>knights</td>\n",
       "      <td>0</td>\n",
       "      <td>8</td>\n",
       "      <td>40</td>\n",
       "      <td>14</td>\n",
       "      <td>6</td>\n",
       "      <td>25</td>\n",
       "      <td>8</td>\n",
       "      <td>5</td>\n",
       "      <td>6</td>\n",
       "      <td>Knights are one of the best attackers.</td>\n",
       "    </tr>\n",
       "    <tr>\n",
       "      <th>4</th>\n",
       "      <td>9</td>\n",
       "      <td>Human</td>\n",
       "      <td>monster</td>\n",
       "      <td>gryphon</td>\n",
       "      <td>gryphons</td>\n",
       "      <td>0</td>\n",
       "      <td>1</td>\n",
       "      <td>250</td>\n",
       "      <td>75</td>\n",
       "      <td>50</td>\n",
       "      <td>100</td>\n",
       "      <td>50</td>\n",
       "      <td>50</td>\n",
       "      <td>25</td>\n",
       "      <td>Gryphons are incredibly powerful monsters.</td>\n",
       "    </tr>\n",
       "  </tbody>\n",
       "</table>\n",
       "</div>"
      ],
      "text/plain": [
       "   index   Race Base Name   Class Name Class Name Plural  Total  \\\n",
       "0      5  Human   peasant  man-at-arms       men-at-arms     25   \n",
       "1      6  Human   soldier      footman           footmen      0   \n",
       "2      7  Human    archer    musketeer        musketeers     30   \n",
       "3      8  Human     elite       knight           knights      0   \n",
       "4      9  Human   monster      gryphon          gryphons      0   \n",
       "\n",
       "   Trainable Per Day  Gold  Iron  Wood  Upkeep  Attack  Defence  Health  \\\n",
       "0                 50     4     1     1       5       1        1       1   \n",
       "1                 20    15     5     3      15       3        1       3   \n",
       "2                 15    20     7     4      15       0        5       3   \n",
       "3                  8    40    14     6      25       8        5       6   \n",
       "4                  1   250    75    50     100      50       50      25   \n",
       "\n",
       "                                         Description  \n",
       "0  Men-at-arms can be trained extremely quickly a...  \n",
       "1                      Footmen are strong attackers.  \n",
       "2            Crossbowmen are excellent at defending.  \n",
       "3             Knights are one of the best attackers.  \n",
       "4         Gryphons are incredibly powerful monsters.  "
      ]
     },
     "execution_count": 133,
     "metadata": {},
     "output_type": "execute_result"
    }
   ],
   "source": [
    "armies = pd.read_excel('undyingkingdoms/static/metadata/armies.xlsx', sheet_name='Armies', index_col=0)\n",
    "# print(df)\n",
    "for race in metadata.metadata_races:\n",
    "    \n",
    "    select = armies.Race == race\n",
    "    army = armies.loc[select].reset_index()\n",
    "    for i in range(len(army)):\n",
    "        print(army.loc[i, 'Class Name'].title())\n",
    "        print(army.Gold[i])\n",
    "#     print(armies.loc[select, \"Class Name Plural\"])\n",
    "#     for army in armies[select]:\n",
    "#         print(army)\n",
    "    break\n",
    "armies\n",
    "army"
   ]
  }
 ],
 "metadata": {
  "kernelspec": {
   "display_name": "Python 3",
   "language": "python",
   "name": "python3"
  },
  "language_info": {
   "codemirror_mode": {
    "name": "ipython",
    "version": 3
   },
   "file_extension": ".py",
   "mimetype": "text/x-python",
   "name": "python",
   "nbconvert_exporter": "python",
   "pygments_lexer": "ipython3",
   "version": "3.6.8"
  }
 },
 "nbformat": 4,
 "nbformat_minor": 2
}
