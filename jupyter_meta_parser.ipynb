{
 "cells": [
  {
   "cell_type": "markdown",
   "metadata": {},
   "source": [
    "# Set Up\n",
    "\n",
    "Run the following cell to load your data and some utility functions."
   ]
  },
  {
   "cell_type": "code",
   "execution_count": 78,
   "metadata": {},
   "outputs": [],
   "source": [
    "import pandas as pd\n",
    "import numpy as np\n",
    "from undyingkingdoms.static.metadata import *"
   ]
  },
  {
   "cell_type": "markdown",
   "metadata": {},
   "source": [
    "Attempt to import races and write data to .xlsx"
   ]
  },
  {
   "cell_type": "code",
   "execution_count": 4,
   "metadata": {},
   "outputs": [
    {
     "name": "stdout",
     "output_type": "stream",
     "text": [
      "    Races\n",
      "0   Human\n",
      "1     Elf\n",
      "2   Dwarf\n",
      "3  Goblin\n"
     ]
    }
   ],
   "source": [
    "races = pd.DataFrame({\"Races\": metadata.metadata_races})\n",
    "print(races)\n",
    "# races.to_excel('undyingkingdoms/static/metadata/all.xlsx', sheet_name='Race Table')"
   ]
  },
  {
   "cell_type": "markdown",
   "metadata": {},
   "source": [
    "Attempt to add modifiers to races."
   ]
  },
  {
   "cell_type": "code",
   "execution_count": 5,
   "metadata": {},
   "outputs": [],
   "source": [
    "modifiers = [mod[:-9] for mod in dir(metadata) if \"modifier\" in mod]\n",
    "modifiers = pd.DataFrame({\"Modifiers\": modifiers})\n",
    "# print(modifiers)\n",
    "\n",
    "foo = {races.columns[0]: [], modifiers.columns[0]: []}\n",
    "for race in races.Races:\n",
    "    for mod in modifiers.Modifiers:\n",
    "        foo[races.columns[0]].append(race)\n",
    "        foo[modifiers.columns[0]].append(mod)\n",
    "\n",
    "race_mods = pd.DataFrame(foo)\n",
    "race_mods.to_excel('undyingkingdoms/static/metadata/all.xlsx', sheet_name='Race Modifiers')"
   ]
  },
  {
   "cell_type": "markdown",
   "metadata": {},
   "source": [
    "Attempt to pull modifier values from metadata."
   ]
  },
  {
   "cell_type": "code",
   "execution_count": 164,
   "metadata": {
    "scrolled": false
   },
   "outputs": [
    {
     "data": {
      "text/html": [
       "<div>\n",
       "<style scoped>\n",
       "    .dataframe tbody tr th:only-of-type {\n",
       "        vertical-align: middle;\n",
       "    }\n",
       "\n",
       "    .dataframe tbody tr th {\n",
       "        vertical-align: top;\n",
       "    }\n",
       "\n",
       "    .dataframe thead th {\n",
       "        text-align: right;\n",
       "    }\n",
       "</style>\n",
       "<table border=\"1\" class=\"dataframe\">\n",
       "  <thead>\n",
       "    <tr style=\"text-align: right;\">\n",
       "      <th></th>\n",
       "      <th>Race</th>\n",
       "      <th>Background</th>\n",
       "      <th>Modifier Label</th>\n",
       "      <th>Modifier Type</th>\n",
       "      <th>Modifier Value</th>\n",
       "      <th>Modifier Description</th>\n",
       "    </tr>\n",
       "  </thead>\n",
       "  <tbody>\n",
       "    <tr>\n",
       "      <th>0</th>\n",
       "      <td>Dwarf</td>\n",
       "      <td>NaN</td>\n",
       "      <td>Dwarven Made</td>\n",
       "      <td>Production Per Worker Modifier</td>\n",
       "      <td>0.15</td>\n",
       "      <td>Dwarven Made: +15% Production Per Worker</td>\n",
       "    </tr>\n",
       "    <tr>\n",
       "      <th>1</th>\n",
       "      <td>Dwarf</td>\n",
       "      <td>NaN</td>\n",
       "      <td>Ravenous</td>\n",
       "      <td>Food Consumed Modifier</td>\n",
       "      <td>0.15</td>\n",
       "      <td>Ravenous: +15% Food Consumed</td>\n",
       "    </tr>\n",
       "    <tr>\n",
       "      <th>2</th>\n",
       "      <td>Elf</td>\n",
       "      <td>NaN</td>\n",
       "      <td>Citizen Militia</td>\n",
       "      <td>Defense Per Citizen Modifier</td>\n",
       "      <td>1</td>\n",
       "      <td>Citizen Militia: +1 Defense Per Citizen</td>\n",
       "    </tr>\n",
       "    <tr>\n",
       "      <th>3</th>\n",
       "      <td>Elf</td>\n",
       "      <td>NaN</td>\n",
       "      <td>Elders</td>\n",
       "      <td>Birth Rate Modifier</td>\n",
       "      <td>-0.15</td>\n",
       "      <td>Elders: -0.15% Birth Rate</td>\n",
       "    </tr>\n",
       "    <tr>\n",
       "      <th>4</th>\n",
       "      <td>Goblin</td>\n",
       "      <td>NaN</td>\n",
       "      <td>Expendable</td>\n",
       "      <td>Birth Rate Modifier</td>\n",
       "      <td>0.1</td>\n",
       "      <td>Expendable: +10% Birth Rate</td>\n",
       "    </tr>\n",
       "    <tr>\n",
       "      <th>5</th>\n",
       "      <td>Goblin</td>\n",
       "      <td>NaN</td>\n",
       "      <td>Infighting</td>\n",
       "      <td>Happiness Modifier</td>\n",
       "      <td>-2</td>\n",
       "      <td>Infighting: -2 Happiness</td>\n",
       "    </tr>\n",
       "    <tr>\n",
       "      <th>6</th>\n",
       "      <td>Human</td>\n",
       "      <td>NaN</td>\n",
       "      <td>NaN</td>\n",
       "      <td>NaN</td>\n",
       "      <td>NaN</td>\n",
       "      <td>NaN</td>\n",
       "    </tr>\n",
       "    <tr>\n",
       "      <th>7</th>\n",
       "      <td>NaN</td>\n",
       "      <td>Engineer</td>\n",
       "      <td>Craftsman</td>\n",
       "      <td>Production Per Worker Modifier</td>\n",
       "      <td>0.2</td>\n",
       "      <td>Craftsman: +20% Production Per Worker</td>\n",
       "    </tr>\n",
       "    <tr>\n",
       "      <th>8</th>\n",
       "      <td>NaN</td>\n",
       "      <td>Merchant</td>\n",
       "      <td>Silver Tongue</td>\n",
       "      <td>Income Modifier</td>\n",
       "      <td>0.15</td>\n",
       "      <td>Silver Tongue: +15% Income</td>\n",
       "    </tr>\n",
       "    <tr>\n",
       "      <th>9</th>\n",
       "      <td>NaN</td>\n",
       "      <td>Rogue</td>\n",
       "      <td>Army of Shadows</td>\n",
       "      <td>Amount Of Thieves Modifier</td>\n",
       "      <td>2</td>\n",
       "      <td>Army of Shadows: +2 Amount Of Thieves</td>\n",
       "    </tr>\n",
       "    <tr>\n",
       "      <th>10</th>\n",
       "      <td>NaN</td>\n",
       "      <td>Rogue</td>\n",
       "      <td>Master of Disguise</td>\n",
       "      <td>Infiltration Success Modifier</td>\n",
       "      <td>0.1</td>\n",
       "      <td>Master of Disguise: +10% Infiltration Success</td>\n",
       "    </tr>\n",
       "    <tr>\n",
       "      <th>11</th>\n",
       "      <td>NaN</td>\n",
       "      <td>Warlord</td>\n",
       "      <td>Relentless</td>\n",
       "      <td>Offensive Power Modifier</td>\n",
       "      <td>0.15</td>\n",
       "      <td>Relentless: +15% Offensive Power</td>\n",
       "    </tr>\n",
       "  </tbody>\n",
       "</table>\n",
       "</div>"
      ],
      "text/plain": [
       "      Race Background      Modifier Label                   Modifier Type  \\\n",
       "0    Dwarf        NaN        Dwarven Made  Production Per Worker Modifier   \n",
       "1    Dwarf        NaN            Ravenous          Food Consumed Modifier   \n",
       "2      Elf        NaN     Citizen Militia    Defense Per Citizen Modifier   \n",
       "3      Elf        NaN              Elders             Birth Rate Modifier   \n",
       "4   Goblin        NaN          Expendable             Birth Rate Modifier   \n",
       "5   Goblin        NaN          Infighting              Happiness Modifier   \n",
       "6    Human        NaN                 NaN                             NaN   \n",
       "7      NaN   Engineer           Craftsman  Production Per Worker Modifier   \n",
       "8      NaN   Merchant       Silver Tongue                 Income Modifier   \n",
       "9      NaN      Rogue     Army of Shadows      Amount Of Thieves Modifier   \n",
       "10     NaN      Rogue  Master of Disguise   Infiltration Success Modifier   \n",
       "11     NaN    Warlord          Relentless        Offensive Power Modifier   \n",
       "\n",
       "   Modifier Value                           Modifier Description  \n",
       "0            0.15       Dwarven Made: +15% Production Per Worker  \n",
       "1            0.15                   Ravenous: +15% Food Consumed  \n",
       "2               1        Citizen Militia: +1 Defense Per Citizen  \n",
       "3           -0.15                      Elders: -0.15% Birth Rate  \n",
       "4             0.1                    Expendable: +10% Birth Rate  \n",
       "5              -2                       Infighting: -2 Happiness  \n",
       "6             NaN                                            NaN  \n",
       "7             0.2          Craftsman: +20% Production Per Worker  \n",
       "8            0.15                     Silver Tongue: +15% Income  \n",
       "9               2          Army of Shadows: +2 Amount Of Thieves  \n",
       "10            0.1  Master of Disguise: +10% Infiltration Success  \n",
       "11           0.15               Relentless: +15% Offensive Power  "
      ]
     },
     "execution_count": 164,
     "metadata": {},
     "output_type": "execute_result"
    }
   ],
   "source": [
    "modifiers = [mod for mod in dir(metadata) if \"modifier\" in mod]\n",
    "mod_dfs = {' '.join(mod.split('_')).title(): pd.DataFrame(getattr(metadata, mod)) for mod in modifiers}\n",
    "\n",
    "mod_types = [' '.join(mod.split('_')).title() for mod in modifiers]\n",
    "cols = [\"Race\", \"Background\", \"Modifier Label\", \"Modifier Type\", \"Modifier Value\", \"Modifier Description\"]\n",
    "# cols = ['Races', 'BackgroundsModifier Names', 'Amount Of Thieves Modifier', 'Birth Rate Modifier', 'Death Rate Modifier', 'Defense Per Citizen Modifier', 'Food Consumed Modifier', 'Happiness Modifier', 'Income Modifier', 'Infiltration Success Modifier', 'Offensive Power Modifier', 'Production Per Worker Modifier']\n",
    "df = pd.DataFrame(index=range(12), columns=cols)\n",
    "\n",
    "i = 0\n",
    "# print(cols)\n",
    "for mod_key, mod_df in mod_dfs.items():\n",
    "    for r_b in mod_df:\n",
    "        if r_b in metadata.metadata_races:\n",
    "            df.Race[i] = r_b\n",
    "        else:  # col is Background\n",
    "            df.Background[i] = r_b\n",
    "        df['Modifier Type'][i] = mod_key\n",
    "        df['Modifier Label'][i] = mod_df[r_b][0]\n",
    "        df['Modifier Value'][i] = mod_df[r_b][1]\n",
    "        i += 1\n",
    "\n",
    "for race in metadata.metadata_races:\n",
    "    if race not in df.Race.dropna().unique():\n",
    "#         print(race)\n",
    "        df.Race[i] = race\n",
    "        i += 1\n",
    "\n",
    "for background in metadata.metadata_backgrounds:\n",
    "    if background not in df.Background.dropna().unique():\n",
    "        print(background)\n",
    "        df.Background[i] = background\n",
    "        i += 1\n",
    "df = df.sort_values(['Race', 'Background', 'Modifier Label']).reset_index(drop=True)\n",
    "\n",
    "\n",
    "for name in df['Modifier Label']:\n",
    "    try:\n",
    "        row = df['Modifier Label'] == name\n",
    "        val = df.loc[row, \"Modifier Value\"].iloc[0]\n",
    "        if int(val) == val:  # is a fixed value\n",
    "            if val > 0:\n",
    "                val = '+' + str(int(val))\n",
    "        else:  # is a percent\n",
    "            if val > 0:\n",
    "                val = '+' + str(int(val * 100))\n",
    "            val = str(val) + '%'\n",
    "        label = df.loc[row, \"Modifier Type\"].iloc[0][:-9]\n",
    "        df.loc[row, 'Modifier Description'] = '{}: {} {}'.format(name, val, label)\n",
    "    except IndexError:\n",
    "        pass\n",
    "\n",
    "df.to_excel('undyingkingdoms/static/metadata/all.xlsx', sheet_name='Modifiers')\n",
    "df"
   ]
  },
  {
   "cell_type": "markdown",
   "metadata": {},
   "source": [
    "Try and work out what data to pull into the Guide Race Compare page."
   ]
  },
  {
   "cell_type": "code",
   "execution_count": 197,
   "metadata": {},
   "outputs": [
    {
     "name": "stdout",
     "output_type": "stream",
     "text": [
      "Dwarven Made: +15% Production Per Worker\n",
      "Ravenous: +15% Food Consumed\n",
      "Citizen Militia: +1 Defense Per Citizen\n",
      "Elders: -0.15% Birth Rate\n",
      "Expendable: +10% Birth Rate\n",
      "Infighting: -2 Happiness\n",
      "nan\n"
     ]
    }
   ],
   "source": [
    "df = pd.read_excel('undyingkingdoms/static/metadata/all.xlsx', sheet_name='Modifiers')\n",
    "\n",
    "for race in df.Race.unique():\n",
    "    select = df['Race'] == race\n",
    "    for row in df.loc[select, 'Modifier Description']:\n",
    "        if row:\n",
    "            print(row)"
   ]
  },
  {
   "cell_type": "markdown",
   "metadata": {},
   "source": [
    "Attempt to pull soldier data out of metadata files."
   ]
  }
 ],
 "metadata": {
  "kernelspec": {
   "display_name": "Python 3",
   "language": "python",
   "name": "python3"
  },
  "language_info": {
   "codemirror_mode": {
    "name": "ipython",
    "version": 3
   },
   "file_extension": ".py",
   "mimetype": "text/x-python",
   "name": "python",
   "nbconvert_exporter": "python",
   "pygments_lexer": "ipython3",
   "version": "3.6.8"
  }
 },
 "nbformat": 4,
 "nbformat_minor": 2
}
