{
 "cells": [
  {
   "cell_type": "code",
   "execution_count": 229,
   "metadata": {},
   "outputs": [
    {
     "data": {
      "text/plain": [
       "[4.0, 8.5, 10.0, 8.5, 4.0]"
      ]
     },
     "execution_count": 229,
     "metadata": {},
     "output_type": "execute_result"
    }
   ],
   "source": [
    "import math\n",
    "\n",
    "def bell_curvish(size):\n",
    "    std=size/3 + 0.3\n",
    "    mean = sum([x for x in range(size)])/size\n",
    "    curve = [\n",
    "        (1 - (x - mean)**2 / (2 * std ** 2)) \n",
    "        / (std * math.sqrt(2 * math.pi)) * math.e \n",
    "        for x in range(size)\n",
    "    ]\n",
    "    \n",
    "    return curve # [round(x/sum(curve) * 100) for x in curve]\n",
    "\n",
    "def normalize(values, bounds):\n",
    "    return [\n",
    "        bounds['desired']['lower'] + (x - bounds['actual']['lower']) \n",
    "        * (bounds['desired']['upper'] - bounds['desired']['lower']) \n",
    "        / (bounds['actual']['upper'] - bounds['actual']['lower']) \n",
    "        for x in values\n",
    "    ]\n",
    "\n",
    "# r = foo(6)\n",
    "# assert 99 < sum(r) < 101\n",
    "# r\n",
    "# [bell_curvish(x) for x in range(1, 14)]\n",
    "words = ['w'] * 10\n",
    "c = bell_curvish(5)\n",
    "\n",
    "a = c\n",
    "[(float(i)-min(a))/(max(a)-min(a)) for i in a]\n",
    "\n",
    "bounds = dict(\n",
    "    desired=dict(\n",
    "        lower=4,\n",
    "        upper=len(words),\n",
    "    ),\n",
    "    actual=dict(\n",
    "        lower=c[0],\n",
    "        upper=c[len(c)//2],\n",
    "    )\n",
    ")\n",
    "normalize(c, bounds)"
   ]
  },
  {
   "cell_type": "code",
   "execution_count": null,
   "metadata": {},
   "outputs": [],
   "source": []
  }
 ],
 "metadata": {
  "kernelspec": {
   "display_name": "Python 3",
   "language": "python",
   "name": "python3"
  },
  "language_info": {
   "codemirror_mode": {
    "name": "ipython",
    "version": 3
   },
   "file_extension": ".py",
   "mimetype": "text/x-python",
   "name": "python",
   "nbconvert_exporter": "python",
   "pygments_lexer": "ipython3",
   "version": "3.6.8"
  }
 },
 "nbformat": 4,
 "nbformat_minor": 2
}
